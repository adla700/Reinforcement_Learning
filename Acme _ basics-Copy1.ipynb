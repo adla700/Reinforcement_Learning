{
 "cells": [
  {
   "cell_type": "code",
   "execution_count": 1,
   "id": "yPxp9BWnoUD7",
   "metadata": {
    "colab": {
     "base_uri": "https://localhost:8080/"
    },
    "id": "yPxp9BWnoUD7",
    "outputId": "242b81af-22bc-4e0c-a3e3-56c32a336e0e"
   },
   "outputs": [
    {
     "name": "stdout",
     "output_type": "stream",
     "text": [
      "C:\\Users\\Adhula\\Downloads\\acme\n"
     ]
    }
   ],
   "source": [
    "cd acme"
   ]
  },
  {
   "cell_type": "code",
   "execution_count": 2,
   "id": "cf53af44",
   "metadata": {},
   "outputs": [
    {
     "name": "stderr",
     "output_type": "stream",
     "text": [
      "WARNING: Skipping acme as it is not installed.\n"
     ]
    }
   ],
   "source": [
    "!pip uninstall acme"
   ]
  },
  {
   "cell_type": "code",
   "execution_count": 3,
   "id": "nRwaEOvtboVP",
   "metadata": {
    "colab": {
     "base_uri": "https://localhost:8080/"
    },
    "id": "nRwaEOvtboVP",
    "outputId": "9729f58d-485f-486a-83ca-061a33a1e8a6"
   },
   "outputs": [
    {
     "name": "stdout",
     "output_type": "stream",
     "text": [
      "Requirement already satisfied: dm-env in c:\\users\\adhula\\anaconda3\\lib\\site-packages (1.6)\n",
      "Requirement already satisfied: absl-py in c:\\users\\adhula\\anaconda3\\lib\\site-packages (from dm-env) (2.1.0)\n",
      "Requirement already satisfied: dm-tree in c:\\users\\adhula\\anaconda3\\lib\\site-packages (from dm-env) (0.1.8)\n",
      "Requirement already satisfied: numpy in c:\\users\\adhula\\anaconda3\\lib\\site-packages (from dm-env) (1.26.4)\n"
     ]
    }
   ],
   "source": [
    "!pip install dm-env"
   ]
  },
  {
   "cell_type": "code",
   "execution_count": 4,
   "id": "a81da975",
   "metadata": {},
   "outputs": [
    {
     "name": "stdout",
     "output_type": "stream",
     "text": [
      "Current working directory: C:\\Users\\Adhula\\Downloads\\acme\n"
     ]
    }
   ],
   "source": [
    "import os\n",
    "\n",
    "# Get the current working directory\n",
    "current_directory = os.getcwd()\n",
    "\n",
    "# Print the current working directory\n",
    "print(f\"Current working directory: {current_directory}\")\n"
   ]
  },
  {
   "cell_type": "code",
   "execution_count": 5,
   "id": "8cc0abbb",
   "metadata": {},
   "outputs": [
    {
     "name": "stdout",
     "output_type": "stream",
     "text": [
      "Requirement already satisfied: launchpad in c:\\users\\adhula\\anaconda3\\lib\\site-packages (2.0.1)\n",
      "Requirement already satisfied: qute in c:\\users\\adhula\\anaconda3\\lib\\site-packages (from launchpad) (3.0.11)\n",
      "Requirement already satisfied: scribble in c:\\users\\adhula\\anaconda3\\lib\\site-packages (from launchpad) (1.0.0)\n",
      "Requirement already satisfied: factories in c:\\users\\adhula\\anaconda3\\lib\\site-packages (from launchpad) (1.2.0)\n"
     ]
    }
   ],
   "source": [
    "!pip install launchpad"
   ]
  },
  {
   "cell_type": "code",
   "execution_count": 6,
   "id": "noted-importance",
   "metadata": {
    "colab": {
     "base_uri": "https://localhost:8080/",
     "height": 384
    },
    "id": "noted-importance",
    "outputId": "3ad6e94d-39c2-43ea-ebb6-cf7903cfbac8"
   },
   "outputs": [
    {
     "name": "stdout",
     "output_type": "stream",
     "text": [
      "Current working directory: C:\\Users\\Adhula\\Downloads\\acme\n",
      "Files in the current directory:\n",
      ".gitignore\n",
      ".pylintrc\n",
      ".readthedocs.yaml\n",
      "CONTRIBUTING.md\n",
      "LICENSE\n",
      "MANIFEST.in\n",
      "README.md\n",
      "setup.py\n",
      "test.sh\n",
      "Folders in the current directory:\n",
      ".git\n",
      ".github\n",
      "acme\n",
      "docs\n",
      "examples\n"
     ]
    }
   ],
   "source": [
    "# reinforcement learning\n",
    "#import acme\n",
    "import os\n",
    "current_directory = os.getcwd()\n",
    "print(f\"Current working directory: {current_directory}\")\n",
    "print(\"Files in the current directory:\")\n",
    "for item in os.listdir(current_directory):\n",
    "    if os.path.isfile(os.path.join(current_directory, item)):\n",
    "        print(item)\n",
    "print(\"Folders in the current directory:\")\n",
    "for item in os.listdir(current_directory):\n",
    "    if os.path.isdir(os.path.join(current_directory, item)):\n",
    "        print(item)\n",
    "#from acme import types\n",
    "from acme.types import Batches\n",
    "from acme.wrappers import gym_wrapper\n",
    "from acme.environment_loop import EnvironmentLoop\n",
    "from acme.utils.loggers import TerminalLogger, InMemoryLogger\n",
    "\n",
    "# environments\n",
    "import gym\n",
    "#import dm_env\n",
    "\n",
    "# other\n",
    "import numpy as np"
   ]
  },
  {
   "cell_type": "markdown",
   "id": "hearing-photography",
   "metadata": {
    "id": "hearing-photography"
   },
   "source": [
    "## CartPole v0"
   ]
  },
  {
   "cell_type": "code",
   "execution_count": 7,
   "id": "resistant-import",
   "metadata": {
    "colab": {
     "base_uri": "https://localhost:8080/",
     "height": 211
    },
    "id": "resistant-import",
    "outputId": "71fbbe31-1f08-4fae-bc71-99582b1c6bfd"
   },
   "outputs": [
    {
     "name": "stdout",
     "output_type": "stream",
     "text": [
      "Observation Spec: Box([-4.8000002e+00 -3.4028235e+38 -4.1887903e-01 -3.4028235e+38], [4.8000002e+00 3.4028235e+38 4.1887903e-01 3.4028235e+38], (4,), float32)\n",
      "Action Spec: Discrete(2)\n",
      "Reward Spec: (-inf, inf)\n"
     ]
    }
   ],
   "source": [
    "env = gym_wrapper.GymWrapper(gym.make('CartPole-v1',new_step_api=True))\n",
    "# env = acme.wrappers.SinglePrecisionWrapper(env)\n",
    "\n",
    "# print env specs\n",
    "env_specs = env.observation_space, env.action_space, env.reward_range # env.observation_spec()\n",
    "print('Observation Spec:', env.observation_space)\n",
    "print('Action Spec:', env.action_space)\n",
    "print('Reward Spec:', env.reward_range)"
   ]
  },
  {
   "cell_type": "code",
   "execution_count": 8,
   "id": "apart-complaint",
   "metadata": {
    "id": "apart-complaint",
    "outputId": "eb5f0cee-6603-465d-f814-2fbf9a335a59"
   },
   "outputs": [
    {
     "data": {
      "text/plain": [
       "TimeStep(step_type=<StepType.FIRST: 0>, reward=None, discount=None, observation=array([-0.04903064,  0.01979685,  0.01531256, -0.01966486], dtype=float32))"
      ]
     },
     "execution_count": 8,
     "metadata": {},
     "output_type": "execute_result"
    }
   ],
   "source": [
    "# show a timestep\n",
    "env.reset()"
   ]
  },
  {
   "cell_type": "code",
   "execution_count": 9,
   "id": "ca3b2399",
   "metadata": {},
   "outputs": [],
   "source": [
    "import acme"
   ]
  },
  {
   "cell_type": "markdown",
   "id": "faced-burke",
   "metadata": {
    "id": "faced-burke"
   },
   "source": [
    "As you can see, the timesteps are somewhat different to Open AI Gym environments."
   ]
  },
  {
   "cell_type": "markdown",
   "id": "missing-combat",
   "metadata": {
    "id": "missing-combat"
   },
   "source": [
    "## Actor, Learners, and Agents\n",
    "\n",
    "It is crucial to understand that there is a distinction between actors, learners, and agents. For the base class, see here: https://github.com/deepmind/acme/blob/master/acme/core.py."
   ]
  },
  {
   "cell_type": "code",
   "execution_count": 10,
   "id": "5bc5299e",
   "metadata": {},
   "outputs": [
    {
     "name": "stdout",
     "output_type": "stream",
     "text": [
      "Requirement already satisfied: launchpad-py in c:\\users\\adhula\\anaconda3\\lib\\site-packages (0.9.1)\n"
     ]
    }
   ],
   "source": [
    "!pip install launchpad-py"
   ]
  },
  {
   "cell_type": "code",
   "execution_count": 11,
   "id": "89298c0f",
   "metadata": {},
   "outputs": [
    {
     "name": "stdout",
     "output_type": "stream",
     "text": [
      "Requirement already satisfied: dm-haiku in c:\\users\\adhula\\anaconda3\\lib\\site-packages (0.0.12)\n",
      "Requirement already satisfied: absl-py>=0.7.1 in c:\\users\\adhula\\anaconda3\\lib\\site-packages (from dm-haiku) (2.1.0)\n",
      "Requirement already satisfied: jmp>=0.0.2 in c:\\users\\adhula\\anaconda3\\lib\\site-packages (from dm-haiku) (0.0.4)\n",
      "Requirement already satisfied: numpy>=1.18.0 in c:\\users\\adhula\\anaconda3\\lib\\site-packages (from dm-haiku) (1.26.4)\n",
      "Requirement already satisfied: tabulate>=0.8.9 in c:\\users\\adhula\\anaconda3\\lib\\site-packages (from dm-haiku) (0.9.0)\n",
      "Requirement already satisfied: flax>=0.7.1 in c:\\users\\adhula\\anaconda3\\lib\\site-packages (from dm-haiku) (0.7.2)\n",
      "Requirement already satisfied: jax>=0.4.2 in c:\\users\\adhula\\anaconda3\\lib\\site-packages (from flax>=0.7.1->dm-haiku) (0.4.30)\n",
      "Requirement already satisfied: msgpack in c:\\users\\adhula\\anaconda3\\lib\\site-packages (from flax>=0.7.1->dm-haiku) (1.0.3)\n",
      "Requirement already satisfied: optax in c:\\users\\adhula\\anaconda3\\lib\\site-packages (from flax>=0.7.1->dm-haiku) (0.1.7)\n",
      "Requirement already satisfied: orbax-checkpoint in c:\\users\\adhula\\anaconda3\\lib\\site-packages (from flax>=0.7.1->dm-haiku) (0.3.3)\n",
      "Requirement already satisfied: tensorstore in c:\\users\\adhula\\anaconda3\\lib\\site-packages (from flax>=0.7.1->dm-haiku) (0.1.41)\n",
      "Requirement already satisfied: rich>=11.1 in c:\\users\\adhula\\anaconda3\\lib\\site-packages (from flax>=0.7.1->dm-haiku) (13.3.5)\n",
      "Requirement already satisfied: typing-extensions>=4.1.1 in c:\\users\\adhula\\anaconda3\\lib\\site-packages (from flax>=0.7.1->dm-haiku) (4.12.2)\n",
      "Requirement already satisfied: PyYAML>=5.4.1 in c:\\users\\adhula\\anaconda3\\lib\\site-packages (from flax>=0.7.1->dm-haiku) (6.0.1)\n",
      "Requirement already satisfied: jaxlib<=0.4.30,>=0.4.27 in c:\\users\\adhula\\anaconda3\\lib\\site-packages (from jax>=0.4.2->flax>=0.7.1->dm-haiku) (0.4.30)\n",
      "Requirement already satisfied: ml-dtypes>=0.2.0 in c:\\users\\adhula\\anaconda3\\lib\\site-packages (from jax>=0.4.2->flax>=0.7.1->dm-haiku) (0.3.2)\n",
      "Requirement already satisfied: opt-einsum in c:\\users\\adhula\\anaconda3\\lib\\site-packages (from jax>=0.4.2->flax>=0.7.1->dm-haiku) (3.3.0)\n",
      "Requirement already satisfied: scipy>=1.9 in c:\\users\\adhula\\anaconda3\\lib\\site-packages (from jax>=0.4.2->flax>=0.7.1->dm-haiku) (1.12.0)\n",
      "Requirement already satisfied: importlib-metadata>=4.6 in c:\\users\\adhula\\anaconda3\\lib\\site-packages (from jax>=0.4.2->flax>=0.7.1->dm-haiku) (7.0.1)\n",
      "Requirement already satisfied: markdown-it-py<3.0.0,>=2.2.0 in c:\\users\\adhula\\anaconda3\\lib\\site-packages (from rich>=11.1->flax>=0.7.1->dm-haiku) (2.2.0)\n",
      "Requirement already satisfied: pygments<3.0.0,>=2.13.0 in c:\\users\\adhula\\anaconda3\\lib\\site-packages (from rich>=11.1->flax>=0.7.1->dm-haiku) (2.15.1)\n",
      "Requirement already satisfied: chex>=0.1.5 in c:\\users\\adhula\\anaconda3\\lib\\site-packages (from optax->flax>=0.7.1->dm-haiku) (0.1.7)\n",
      "Requirement already satisfied: etils[epath,epy] in c:\\users\\adhula\\anaconda3\\lib\\site-packages (from orbax-checkpoint->flax>=0.7.1->dm-haiku) (1.4.1)\n",
      "Requirement already satisfied: nest_asyncio in c:\\users\\adhula\\anaconda3\\lib\\site-packages (from orbax-checkpoint->flax>=0.7.1->dm-haiku) (1.6.0)\n",
      "Requirement already satisfied: protobuf in c:\\users\\adhula\\anaconda3\\lib\\site-packages (from orbax-checkpoint->flax>=0.7.1->dm-haiku) (4.25.3)\n",
      "Requirement already satisfied: dm-tree>=0.1.5 in c:\\users\\adhula\\anaconda3\\lib\\site-packages (from chex>=0.1.5->optax->flax>=0.7.1->dm-haiku) (0.1.8)\n",
      "Requirement already satisfied: toolz>=0.9.0 in c:\\users\\adhula\\anaconda3\\lib\\site-packages (from chex>=0.1.5->optax->flax>=0.7.1->dm-haiku) (0.12.0)\n",
      "Requirement already satisfied: zipp>=0.5 in c:\\users\\adhula\\anaconda3\\lib\\site-packages (from importlib-metadata>=4.6->jax>=0.4.2->flax>=0.7.1->dm-haiku) (3.17.0)\n",
      "Requirement already satisfied: mdurl~=0.1 in c:\\users\\adhula\\anaconda3\\lib\\site-packages (from markdown-it-py<3.0.0,>=2.2.0->rich>=11.1->flax>=0.7.1->dm-haiku) (0.1.0)\n",
      "Requirement already satisfied: importlib_resources in c:\\users\\adhula\\anaconda3\\lib\\site-packages (from etils[epath,epy]->orbax-checkpoint->flax>=0.7.1->dm-haiku) (5.12.0)\n"
     ]
    }
   ],
   "source": [
    "!pip install dm-haiku"
   ]
  },
  {
   "cell_type": "code",
   "execution_count": 12,
   "id": "52464881",
   "metadata": {},
   "outputs": [
    {
     "name": "stdout",
     "output_type": "stream",
     "text": [
      "Requirement already satisfied: dm-sonnet in c:\\users\\adhula\\anaconda3\\lib\\site-packages (2.0.2)\n",
      "Requirement already satisfied: absl-py>=0.7.1 in c:\\users\\adhula\\anaconda3\\lib\\site-packages (from dm-sonnet) (2.1.0)\n",
      "Requirement already satisfied: dm-tree>=0.1.1 in c:\\users\\adhula\\anaconda3\\lib\\site-packages (from dm-sonnet) (0.1.8)\n",
      "Requirement already satisfied: numpy>=1.16.3 in c:\\users\\adhula\\anaconda3\\lib\\site-packages (from dm-sonnet) (1.26.4)\n",
      "Requirement already satisfied: tabulate>=0.7.5 in c:\\users\\adhula\\anaconda3\\lib\\site-packages (from dm-sonnet) (0.9.0)\n",
      "Requirement already satisfied: wrapt>=1.11.1 in c:\\users\\adhula\\anaconda3\\lib\\site-packages (from dm-sonnet) (1.12.1)\n"
     ]
    }
   ],
   "source": [
    "!pip install dm-sonnet"
   ]
  },
  {
   "cell_type": "code",
   "execution_count": 13,
   "id": "c599877b",
   "metadata": {},
   "outputs": [
    {
     "name": "stdout",
     "output_type": "stream",
     "text": [
      "Requirement already satisfied: gymnasium in c:\\users\\adhula\\anaconda3\\lib\\site-packages (0.29.1)\n",
      "Requirement already satisfied: numpy>=1.21.0 in c:\\users\\adhula\\anaconda3\\lib\\site-packages (from gymnasium) (1.26.4)\n",
      "Requirement already satisfied: cloudpickle>=1.2.0 in c:\\users\\adhula\\anaconda3\\lib\\site-packages (from gymnasium) (1.6.0)\n",
      "Requirement already satisfied: typing-extensions>=4.3.0 in c:\\users\\adhula\\anaconda3\\lib\\site-packages (from gymnasium) (4.12.2)\n",
      "Requirement already satisfied: farama-notifications>=0.0.1 in c:\\users\\adhula\\anaconda3\\lib\\site-packages (from gymnasium) (0.0.4)\n",
      "Requirement already satisfied: importlib-metadata>=4.8.0 in c:\\users\\adhula\\anaconda3\\lib\\site-packages (from gymnasium) (7.0.1)\n",
      "Requirement already satisfied: zipp>=0.5 in c:\\users\\adhula\\anaconda3\\lib\\site-packages (from importlib-metadata>=4.8.0->gymnasium) (3.17.0)\n"
     ]
    }
   ],
   "source": [
    "!pip install gymnasium"
   ]
  },
  {
   "cell_type": "code",
   "execution_count": 14,
   "id": "3cf0f983",
   "metadata": {},
   "outputs": [
    {
     "name": "stdout",
     "output_type": "stream",
     "text": [
      "Requirement already satisfied: imitation in c:\\users\\adhula\\anaconda3\\lib\\site-packages (1.0.0)\n",
      "Requirement already satisfied: gymnasium~=0.29 in c:\\users\\adhula\\anaconda3\\lib\\site-packages (from gymnasium[classic-control]~=0.29->imitation) (0.29.1)\n",
      "Requirement already satisfied: matplotlib in c:\\users\\adhula\\anaconda3\\lib\\site-packages (from imitation) (3.5.3)\n",
      "Requirement already satisfied: numpy>=1.15 in c:\\users\\adhula\\anaconda3\\lib\\site-packages (from imitation) (1.26.4)\n",
      "Requirement already satisfied: torch>=1.4.0 in c:\\users\\adhula\\anaconda3\\lib\\site-packages (from imitation) (2.3.0)\n",
      "Requirement already satisfied: tqdm in c:\\users\\adhula\\anaconda3\\lib\\site-packages (from imitation) (4.66.4)\n",
      "Requirement already satisfied: rich in c:\\users\\adhula\\anaconda3\\lib\\site-packages (from imitation) (13.3.5)\n",
      "Requirement already satisfied: scikit-learn>=0.21.2 in c:\\users\\adhula\\anaconda3\\lib\\site-packages (from imitation) (1.3.0)\n",
      "Requirement already satisfied: seals~=0.2.1 in c:\\users\\adhula\\anaconda3\\lib\\site-packages (from imitation) (0.2.1)\n",
      "Requirement already satisfied: stable-baselines3~=2.0 in c:\\users\\adhula\\anaconda3\\lib\\site-packages (from imitation) (2.3.2)\n",
      "Requirement already satisfied: sacred>=0.8.4 in c:\\users\\adhula\\anaconda3\\lib\\site-packages (from imitation) (0.8.5)\n",
      "Requirement already satisfied: tensorboard>=1.14 in c:\\users\\adhula\\anaconda3\\lib\\site-packages (from imitation) (2.16.2)\n",
      "Requirement already satisfied: huggingface-sb3~=3.0 in c:\\users\\adhula\\anaconda3\\lib\\site-packages (from imitation) (3.0)\n",
      "Requirement already satisfied: optuna>=3.0.1 in c:\\users\\adhula\\anaconda3\\lib\\site-packages (from imitation) (3.6.1)\n",
      "Requirement already satisfied: datasets>=2.8.0 in c:\\users\\adhula\\anaconda3\\lib\\site-packages (from imitation) (2.20.0)\n",
      "Requirement already satisfied: filelock in c:\\users\\adhula\\anaconda3\\lib\\site-packages (from datasets>=2.8.0->imitation) (3.13.1)\n",
      "Requirement already satisfied: pyarrow>=15.0.0 in c:\\users\\adhula\\anaconda3\\lib\\site-packages (from datasets>=2.8.0->imitation) (16.1.0)\n",
      "Requirement already satisfied: pyarrow-hotfix in c:\\users\\adhula\\anaconda3\\lib\\site-packages (from datasets>=2.8.0->imitation) (0.6)\n",
      "Requirement already satisfied: dill<0.3.9,>=0.3.0 in c:\\users\\adhula\\anaconda3\\lib\\site-packages (from datasets>=2.8.0->imitation) (0.3.8)\n",
      "Requirement already satisfied: pandas in c:\\users\\adhula\\anaconda3\\lib\\site-packages (from datasets>=2.8.0->imitation) (1.3.4)\n",
      "Requirement already satisfied: requests>=2.32.2 in c:\\users\\adhula\\anaconda3\\lib\\site-packages (from datasets>=2.8.0->imitation) (2.32.3)\n",
      "Requirement already satisfied: xxhash in c:\\users\\adhula\\anaconda3\\lib\\site-packages (from datasets>=2.8.0->imitation) (3.4.1)\n",
      "Requirement already satisfied: multiprocess in c:\\users\\adhula\\anaconda3\\lib\\site-packages (from datasets>=2.8.0->imitation) (0.70.16)\n",
      "Requirement already satisfied: fsspec<=2024.5.0,>=2023.1.0 in c:\\users\\adhula\\anaconda3\\lib\\site-packages (from fsspec[http]<=2024.5.0,>=2023.1.0->datasets>=2.8.0->imitation) (2023.10.0)\n",
      "Requirement already satisfied: aiohttp in c:\\users\\adhula\\anaconda3\\lib\\site-packages (from datasets>=2.8.0->imitation) (3.9.3)\n",
      "Requirement already satisfied: huggingface-hub>=0.21.2 in c:\\users\\adhula\\anaconda3\\lib\\site-packages (from datasets>=2.8.0->imitation) (0.23.4)\n",
      "Requirement already satisfied: packaging in c:\\users\\adhula\\anaconda3\\lib\\site-packages (from datasets>=2.8.0->imitation) (23.2)\n",
      "Requirement already satisfied: pyyaml>=5.1 in c:\\users\\adhula\\anaconda3\\lib\\site-packages (from datasets>=2.8.0->imitation) (6.0.1)\n",
      "Requirement already satisfied: cloudpickle>=1.2.0 in c:\\users\\adhula\\anaconda3\\lib\\site-packages (from gymnasium~=0.29->gymnasium[classic-control]~=0.29->imitation) (1.6.0)\n",
      "Requirement already satisfied: typing-extensions>=4.3.0 in c:\\users\\adhula\\anaconda3\\lib\\site-packages (from gymnasium~=0.29->gymnasium[classic-control]~=0.29->imitation) (4.12.2)\n",
      "Requirement already satisfied: farama-notifications>=0.0.1 in c:\\users\\adhula\\anaconda3\\lib\\site-packages (from gymnasium~=0.29->gymnasium[classic-control]~=0.29->imitation) (0.0.4)\n",
      "Requirement already satisfied: importlib-metadata>=4.8.0 in c:\\users\\adhula\\anaconda3\\lib\\site-packages (from gymnasium~=0.29->gymnasium[classic-control]~=0.29->imitation) (7.0.1)\n",
      "Requirement already satisfied: pygame>=2.1.3 in c:\\users\\adhula\\anaconda3\\lib\\site-packages (from gymnasium[classic-control]~=0.29->imitation) (2.4.0)\n",
      "Requirement already satisfied: wasabi in c:\\users\\adhula\\anaconda3\\lib\\site-packages (from huggingface-sb3~=3.0->imitation) (1.1.2)\n",
      "Requirement already satisfied: alembic>=1.5.0 in c:\\users\\adhula\\anaconda3\\lib\\site-packages (from optuna>=3.0.1->imitation) (1.13.2)\n",
      "Requirement already satisfied: colorlog in c:\\users\\adhula\\anaconda3\\lib\\site-packages (from optuna>=3.0.1->imitation) (6.8.2)\n",
      "Requirement already satisfied: sqlalchemy>=1.3.0 in c:\\users\\adhula\\anaconda3\\lib\\site-packages (from optuna>=3.0.1->imitation) (2.0.25)\n",
      "Requirement already satisfied: docopt<1.0,>=0.3 in c:\\users\\adhula\\anaconda3\\lib\\site-packages (from sacred>=0.8.4->imitation) (0.6.2)\n",
      "Requirement already satisfied: jsonpickle>=2.2.0 in c:\\users\\adhula\\anaconda3\\lib\\site-packages (from sacred>=0.8.4->imitation) (3.2.2)\n",
      "Requirement already satisfied: munch<5.0,>=2.5 in c:\\users\\adhula\\anaconda3\\lib\\site-packages (from sacred>=0.8.4->imitation) (4.0.0)\n",
      "Requirement already satisfied: wrapt<2.0,>=1.0 in c:\\users\\adhula\\anaconda3\\lib\\site-packages (from sacred>=0.8.4->imitation) (1.12.1)\n",
      "Requirement already satisfied: py-cpuinfo>=4.0 in c:\\users\\adhula\\anaconda3\\lib\\site-packages (from sacred>=0.8.4->imitation) (9.0.0)\n",
      "Requirement already satisfied: colorama>=0.4 in c:\\users\\adhula\\anaconda3\\lib\\site-packages (from sacred>=0.8.4->imitation) (0.4.6)\n",
      "Requirement already satisfied: GitPython in c:\\users\\adhula\\anaconda3\\lib\\site-packages (from sacred>=0.8.4->imitation) (3.1.37)\n",
      "Requirement already satisfied: scipy>=1.5.0 in c:\\users\\adhula\\anaconda3\\lib\\site-packages (from scikit-learn>=0.21.2->imitation) (1.12.0)\n",
      "Requirement already satisfied: joblib>=1.1.1 in c:\\users\\adhula\\anaconda3\\lib\\site-packages (from scikit-learn>=0.21.2->imitation) (1.2.0)\n",
      "Requirement already satisfied: threadpoolctl>=2.0.0 in c:\\users\\adhula\\anaconda3\\lib\\site-packages (from scikit-learn>=0.21.2->imitation) (2.2.0)\n",
      "Requirement already satisfied: absl-py>=0.4 in c:\\users\\adhula\\anaconda3\\lib\\site-packages (from tensorboard>=1.14->imitation) (2.1.0)\n",
      "Requirement already satisfied: grpcio>=1.48.2 in c:\\users\\adhula\\anaconda3\\lib\\site-packages (from tensorboard>=1.14->imitation) (1.64.1)\n",
      "Requirement already satisfied: markdown>=2.6.8 in c:\\users\\adhula\\anaconda3\\lib\\site-packages (from tensorboard>=1.14->imitation) (3.4.1)\n",
      "Requirement already satisfied: protobuf!=4.24.0,>=3.19.6 in c:\\users\\adhula\\anaconda3\\lib\\site-packages (from tensorboard>=1.14->imitation) (4.25.3)\n",
      "Requirement already satisfied: setuptools>=41.0.0 in c:\\users\\adhula\\anaconda3\\lib\\site-packages (from tensorboard>=1.14->imitation) (68.2.2)\n",
      "Requirement already satisfied: six>1.9 in c:\\users\\adhula\\anaconda3\\lib\\site-packages (from tensorboard>=1.14->imitation) (1.15.0)\n",
      "Requirement already satisfied: tensorboard-data-server<0.8.0,>=0.7.0 in c:\\users\\adhula\\anaconda3\\lib\\site-packages (from tensorboard>=1.14->imitation) (0.7.2)\n",
      "Requirement already satisfied: werkzeug>=1.0.1 in c:\\users\\adhula\\anaconda3\\lib\\site-packages (from tensorboard>=1.14->imitation) (2.0.3)\n",
      "Requirement already satisfied: sympy in c:\\users\\adhula\\anaconda3\\lib\\site-packages (from torch>=1.4.0->imitation) (1.12)\n",
      "Requirement already satisfied: networkx in c:\\users\\adhula\\anaconda3\\lib\\site-packages (from torch>=1.4.0->imitation) (3.1)\n",
      "Requirement already satisfied: jinja2 in c:\\users\\adhula\\anaconda3\\lib\\site-packages (from torch>=1.4.0->imitation) (3.1.4)\n",
      "Requirement already satisfied: mkl<=2021.4.0,>=2021.1.1 in c:\\users\\adhula\\anaconda3\\lib\\site-packages (from torch>=1.4.0->imitation) (2021.4.0)\n",
      "Requirement already satisfied: cycler>=0.10 in c:\\users\\adhula\\anaconda3\\lib\\site-packages (from matplotlib->imitation) (0.11.0)\n",
      "Requirement already satisfied: fonttools>=4.22.0 in c:\\users\\adhula\\anaconda3\\lib\\site-packages (from matplotlib->imitation) (4.25.0)\n",
      "Requirement already satisfied: kiwisolver>=1.0.1 in c:\\users\\adhula\\anaconda3\\lib\\site-packages (from matplotlib->imitation) (1.4.4)\n",
      "Requirement already satisfied: pillow>=6.2.0 in c:\\users\\adhula\\anaconda3\\lib\\site-packages (from matplotlib->imitation) (10.2.0)\n",
      "Requirement already satisfied: pyparsing>=2.2.1 in c:\\users\\adhula\\anaconda3\\lib\\site-packages (from matplotlib->imitation) (3.0.9)\n",
      "Requirement already satisfied: python-dateutil>=2.7 in c:\\users\\adhula\\anaconda3\\lib\\site-packages (from matplotlib->imitation) (2.8.2)\n",
      "Requirement already satisfied: markdown-it-py<3.0.0,>=2.2.0 in c:\\users\\adhula\\anaconda3\\lib\\site-packages (from rich->imitation) (2.2.0)\n",
      "Requirement already satisfied: pygments<3.0.0,>=2.13.0 in c:\\users\\adhula\\anaconda3\\lib\\site-packages (from rich->imitation) (2.15.1)\n",
      "Requirement already satisfied: Mako in c:\\users\\adhula\\anaconda3\\lib\\site-packages (from alembic>=1.5.0->optuna>=3.0.1->imitation) (1.3.5)\n",
      "Requirement already satisfied: aiosignal>=1.1.2 in c:\\users\\adhula\\anaconda3\\lib\\site-packages (from aiohttp->datasets>=2.8.0->imitation) (1.2.0)\n",
      "Requirement already satisfied: attrs>=17.3.0 in c:\\users\\adhula\\anaconda3\\lib\\site-packages (from aiohttp->datasets>=2.8.0->imitation) (23.1.0)\n",
      "Requirement already satisfied: frozenlist>=1.1.1 in c:\\users\\adhula\\anaconda3\\lib\\site-packages (from aiohttp->datasets>=2.8.0->imitation) (1.4.0)\n",
      "Requirement already satisfied: multidict<7.0,>=4.5 in c:\\users\\adhula\\anaconda3\\lib\\site-packages (from aiohttp->datasets>=2.8.0->imitation) (6.0.4)\n",
      "Requirement already satisfied: yarl<2.0,>=1.0 in c:\\users\\adhula\\anaconda3\\lib\\site-packages (from aiohttp->datasets>=2.8.0->imitation) (1.9.3)\n",
      "Requirement already satisfied: async-timeout<5.0,>=4.0 in c:\\users\\adhula\\anaconda3\\lib\\site-packages (from aiohttp->datasets>=2.8.0->imitation) (4.0.3)\n",
      "Requirement already satisfied: zipp>=0.5 in c:\\users\\adhula\\anaconda3\\lib\\site-packages (from importlib-metadata>=4.8.0->gymnasium~=0.29->gymnasium[classic-control]~=0.29->imitation) (3.17.0)\n",
      "Requirement already satisfied: mdurl~=0.1 in c:\\users\\adhula\\anaconda3\\lib\\site-packages (from markdown-it-py<3.0.0,>=2.2.0->rich->imitation) (0.1.0)\n",
      "Requirement already satisfied: intel-openmp==2021.* in c:\\users\\adhula\\anaconda3\\lib\\site-packages (from mkl<=2021.4.0,>=2021.1.1->torch>=1.4.0->imitation) (2021.4.0)\n",
      "Requirement already satisfied: tbb==2021.* in c:\\users\\adhula\\anaconda3\\lib\\site-packages (from mkl<=2021.4.0,>=2021.1.1->torch>=1.4.0->imitation) (2021.12.0)\n",
      "Requirement already satisfied: charset-normalizer<4,>=2 in c:\\users\\adhula\\anaconda3\\lib\\site-packages (from requests>=2.32.2->datasets>=2.8.0->imitation) (2.0.4)\n",
      "Requirement already satisfied: idna<4,>=2.5 in c:\\users\\adhula\\anaconda3\\lib\\site-packages (from requests>=2.32.2->datasets>=2.8.0->imitation) (3.4)\n",
      "Requirement already satisfied: urllib3<3,>=1.21.1 in c:\\users\\adhula\\anaconda3\\lib\\site-packages (from requests>=2.32.2->datasets>=2.8.0->imitation) (1.26.18)\n",
      "Requirement already satisfied: certifi>=2017.4.17 in c:\\users\\adhula\\anaconda3\\lib\\site-packages (from requests>=2.32.2->datasets>=2.8.0->imitation) (2024.2.2)\n",
      "Requirement already satisfied: greenlet!=0.4.17 in c:\\users\\adhula\\anaconda3\\lib\\site-packages (from sqlalchemy>=1.3.0->optuna>=3.0.1->imitation) (3.0.1)\n",
      "Requirement already satisfied: gitdb<5,>=4.0.1 in c:\\users\\adhula\\anaconda3\\lib\\site-packages (from GitPython->sacred>=0.8.4->imitation) (4.0.11)\n",
      "Requirement already satisfied: MarkupSafe>=2.0 in c:\\users\\adhula\\anaconda3\\lib\\site-packages (from jinja2->torch>=1.4.0->imitation) (2.0.1)\n",
      "Requirement already satisfied: pytz>=2017.3 in c:\\users\\adhula\\anaconda3\\lib\\site-packages (from pandas->datasets>=2.8.0->imitation) (2023.3.post1)\n",
      "Requirement already satisfied: mpmath>=0.19 in c:\\users\\adhula\\anaconda3\\lib\\site-packages (from sympy->torch>=1.4.0->imitation) (1.3.0)\n",
      "Requirement already satisfied: smmap<6,>=3.0.1 in c:\\users\\adhula\\anaconda3\\lib\\site-packages (from gitdb<5,>=4.0.1->GitPython->sacred>=0.8.4->imitation) (4.0.0)\n"
     ]
    }
   ],
   "source": [
    "!pip install imitation"
   ]
  },
  {
   "cell_type": "markdown",
   "id": "1aeb063c",
   "metadata": {
    "id": "healthy-peoples"
   },
   "source": [
    "#from acme.agents.tf import bc"
   ]
  },
  {
   "cell_type": "markdown",
   "id": "39403dbd",
   "metadata": {},
   "source": [
    "# Using https://imitation.readthedocs.io/en/latest/tutorials/1_train_bc.html"
   ]
  },
  {
   "cell_type": "code",
   "execution_count": 15,
   "id": "226f4404",
   "metadata": {},
   "outputs": [
    {
     "name": "stderr",
     "output_type": "stream",
     "text": [
      "C:\\Users\\Adhula\\anaconda3\\lib\\site-packages\\tensorflow\\lite\\python\\util.py:51: DeprecationWarning: jax.xla_computation is deprecated. Please use the AOT APIs.\n",
      "  from jax import xla_computation as _xla_computation\n"
     ]
    },
    {
     "data": {
      "application/vnd.jupyter.widget-view+json": {
       "model_id": "178d93fb274a43eea28615793667d2e4",
       "version_major": 2,
       "version_minor": 0
      },
      "text/plain": [
       "ppo-seals-CartPole-v0.zip:   0%|          | 0.00/139k [00:00<?, ?B/s]"
      ]
     },
     "metadata": {},
     "output_type": "display_data"
    },
    {
     "name": "stderr",
     "output_type": "stream",
     "text": [
      "C:\\Users\\Adhula\\anaconda3\\lib\\site-packages\\huggingface_hub\\file_download.py:157: UserWarning: `huggingface_hub` cache-system uses symlinks by default to efficiently store duplicated files but your machine does not support them in C:\\Users\\Adhula\\.cache\\huggingface\\hub\\models--HumanCompatibleAI--ppo-seals-CartPole-v0. Caching files will still work but in a degraded version that might require more space on your disk. This warning can be disabled by setting the `HF_HUB_DISABLE_SYMLINKS_WARNING` environment variable. For more details, see https://huggingface.co/docs/huggingface_hub/how-to-cache#limitations.\n",
      "To support symlinks on Windows, you either need to activate Developer Mode or to run Python as an administrator. In order to see activate developer mode, see this article: https://docs.microsoft.com/en-us/windows/apps/get-started/enable-your-device-for-development\n",
      "  warnings.warn(message)\n"
     ]
    }
   ],
   "source": [
    "import numpy as np\n",
    "import gymnasium as gym\n",
    "from imitation.policies.serialize import load_policy\n",
    "from imitation.util.util import make_vec_env\n",
    "from imitation.data.wrappers import RolloutInfoWrapper\n",
    "\n",
    "env = make_vec_env(\n",
    "    \"seals:seals/CartPole-v0\",\n",
    "    rng=np.random.default_rng(),\n",
    "    post_wrappers=[\n",
    "        lambda env, _: RolloutInfoWrapper(env)\n",
    "    ],  # needed for computing rollouts later\n",
    ")\n",
    "expert = load_policy(\n",
    "    \"ppo-huggingface\",\n",
    "    organization=\"HumanCompatibleAI\",\n",
    "    env_name=\"seals/CartPole-v0\",\n",
    "    venv=env,\n",
    ")"
   ]
  },
  {
   "cell_type": "code",
   "execution_count": 18,
   "id": "1f212192",
   "metadata": {},
   "outputs": [
    {
     "name": "stdout",
     "output_type": "stream",
     "text": [
      "500.0\n"
     ]
    }
   ],
   "source": [
    "from stable_baselines3.common.evaluation import evaluate_policy\n",
    "\n",
    "reward, _ = evaluate_policy(expert, env, 10)\n",
    "print(reward)"
   ]
  },
  {
   "cell_type": "code",
   "execution_count": 19,
   "id": "2b4105e1",
   "metadata": {},
   "outputs": [],
   "source": [
    "from imitation.data import rollout\n",
    "\n",
    "rng = np.random.default_rng()\n",
    "rollouts = rollout.rollout(\n",
    "    expert,\n",
    "    env,\n",
    "    rollout.make_sample_until(min_timesteps=None, min_episodes=50),\n",
    "    rng=rng,\n",
    ")\n",
    "transitions = rollout.flatten_trajectories(rollouts)"
   ]
  },
  {
   "cell_type": "code",
   "execution_count": 20,
   "id": "d0b36968",
   "metadata": {},
   "outputs": [
    {
     "name": "stdout",
     "output_type": "stream",
     "text": [
      "The `rollout` function generated a list of 56 <class 'imitation.data.types.TrajectoryWithRew'>.\n",
      "After flattening, this list is turned into a <class 'imitation.data.types.Transitions'> object containing 28000 transitions.\n",
      "The transitions object contains arrays for: obs, acts, infos, next_obs, dones.\"\n",
      "\n"
     ]
    }
   ],
   "source": [
    "print(\n",
    "    f\"\"\"The `rollout` function generated a list of {len(rollouts)} {type(rollouts[0])}.\n",
    "After flattening, this list is turned into a {type(transitions)} object containing {len(transitions)} transitions.\n",
    "The transitions object contains arrays for: {', '.join(transitions.__dict__.keys())}.\"\n",
    "\"\"\"\n",
    ")"
   ]
  },
  {
   "cell_type": "code",
   "execution_count": 21,
   "id": "36165b66",
   "metadata": {},
   "outputs": [],
   "source": [
    "from imitation.algorithms import bc\n",
    "\n",
    "bc_trainer = bc.BC(\n",
    "    observation_space=env.observation_space,\n",
    "    action_space=env.action_space,\n",
    "    demonstrations=transitions,\n",
    "    rng=rng,\n",
    ")"
   ]
  },
  {
   "cell_type": "code",
   "execution_count": 22,
   "id": "6025a1a4",
   "metadata": {},
   "outputs": [
    {
     "name": "stdout",
     "output_type": "stream",
     "text": [
      "Reward before training: 31.3\n"
     ]
    }
   ],
   "source": [
    "reward_before_training, _ = evaluate_policy(bc_trainer.policy, env, 10)\n",
    "print(f\"Reward before training: {reward_before_training}\")"
   ]
  },
  {
   "cell_type": "code",
   "execution_count": 23,
   "id": "a028e774",
   "metadata": {},
   "outputs": [
    {
     "name": "stderr",
     "output_type": "stream",
     "text": [
      "\r",
      "0batch [00:00, ?batch/s]"
     ]
    },
    {
     "name": "stdout",
     "output_type": "stream",
     "text": [
      "---------------------------------\n",
      "| batch_size        | 32        |\n",
      "| bc/               |           |\n",
      "|    batch          | 0         |\n",
      "|    ent_loss       | -0.000693 |\n",
      "|    entropy        | 0.693     |\n",
      "|    epoch          | 0         |\n",
      "|    l2_loss        | 0         |\n",
      "|    l2_norm        | 72.5      |\n",
      "|    loss           | 0.692     |\n",
      "|    neglogp        | 0.693     |\n",
      "|    prob_true_act  | 0.5       |\n",
      "|    samples_so_far | 32        |\n",
      "---------------------------------\n"
     ]
    },
    {
     "name": "stderr",
     "output_type": "stream",
     "text": [
      "493batch [00:01, 259.47batch/s]"
     ]
    },
    {
     "name": "stdout",
     "output_type": "stream",
     "text": [
      "---------------------------------\n",
      "| batch_size        | 32        |\n",
      "| bc/               |           |\n",
      "|    batch          | 500       |\n",
      "|    ent_loss       | -0.000205 |\n",
      "|    entropy        | 0.205     |\n",
      "|    epoch          | 0         |\n",
      "|    l2_loss        | 0         |\n",
      "|    l2_norm        | 92.9      |\n",
      "|    loss           | 0.114     |\n",
      "|    neglogp        | 0.115     |\n",
      "|    prob_true_act  | 0.913     |\n",
      "|    samples_so_far | 16032     |\n",
      "---------------------------------\n"
     ]
    },
    {
     "name": "stderr",
     "output_type": "stream",
     "text": [
      "866batch [00:03, 266.20batch/s]\n",
      "875batch [00:03, 260.31batch/s]\u001b[A\n"
     ]
    },
    {
     "name": "stdout",
     "output_type": "stream",
     "text": [
      "Reward after training: 500.0\n"
     ]
    }
   ],
   "source": [
    "bc_trainer.train(n_epochs=1)\n",
    "reward_after_training, _ = evaluate_policy(bc_trainer.policy, env, 10)\n",
    "print(f\"Reward after training: {reward_after_training}\")"
   ]
  },
  {
   "cell_type": "code",
   "execution_count": null,
   "id": "a91992f0",
   "metadata": {},
   "outputs": [],
   "source": []
  }
 ],
 "metadata": {
  "colab": {
   "provenance": []
  },
  "kernelspec": {
   "display_name": "acme123",
   "language": "python",
   "name": "acme123"
  },
  "language_info": {
   "codemirror_mode": {
    "name": "ipython",
    "version": 3
   },
   "file_extension": ".py",
   "mimetype": "text/x-python",
   "name": "python",
   "nbconvert_exporter": "python",
   "pygments_lexer": "ipython3",
   "version": "3.9.19"
  }
 },
 "nbformat": 4,
 "nbformat_minor": 5
}
